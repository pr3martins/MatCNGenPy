{
 "cells": [
  {
   "cell_type": "markdown",
   "metadata": {},
   "source": [
    "# Similaridades WordNet\n",
    "\n",
    "* As métricas atuais testadas olham apenas a hierarquia do wordnet\n",
    "    * Verificar se tem métricas que olham a definição (Information Content, definition)\n",
    "        * Resnik, [Brown Corpus](https://en.wikipedia.org/wiki/Brown_Corpus)\n",
    "        * [A Review of Semantic Similarity Measures in WordNet](http://www.cartagena99.com/recursos/alumnos/ejercicios/Article%201.pdf)\n",
    "    * as vezes os termos similares estão em **derivationally related form**\n",
    "        * Exemplo: [Actor](http://wordnetweb.princeton.edu/perl/webwn?o2=&o0=1&o8=1&o1=1&o7=&o5=&o9=&o6=&o3=&o4=&r=1&s=actor&i=3&h=10001000000#c), no caso o LCS de actor e casting é bem baixo, na verdade até mesmo actor e act\n",
    "* Encontrar a clique de similaridade máxima. \n",
    "    * Apesar de casting ter vários sentidos, o melhor para ser usado é: the choice of **actors** to play particular **roles** in a play or **movie**\n",
    "    * Escolher um elemento (significado) de cada partição (palavra)"
   ]
  },
  {
   "cell_type": "code",
   "execution_count": 1,
   "metadata": {},
   "outputs": [
    {
     "name": "stdout",
     "output_type": "stream",
     "text": [
      "[nltk_data] Downloading package wordnet to\n",
      "[nltk_data]     C:\\Users\\pr3ma\\AppData\\Roaming\\nltk_data...\n",
      "[nltk_data]   Package wordnet is already up-to-date!\n"
     ]
    },
    {
     "data": {
      "text/plain": [
       "True"
      ]
     },
     "execution_count": 1,
     "metadata": {},
     "output_type": "execute_result"
    }
   ],
   "source": [
    "from pprint import pprint as pp\n",
    "import itertools\n",
    "import nltk \n",
    "from nltk.corpus import stopwords\n",
    "from nltk.corpus import wordnet as wn\n",
    "nltk.download('wordnet')"
   ]
  },
  {
   "cell_type": "code",
   "execution_count": 2,
   "metadata": {},
   "outputs": [],
   "source": [
    "schemaWords = ['casting','note','name','char','movie','title','person','role']"
   ]
  },
  {
   "cell_type": "code",
   "execution_count": 3,
   "metadata": {},
   "outputs": [
    {
     "name": "stdout",
     "output_type": "stream",
     "text": [
      "Synset('cast.n.06') object formed by a mold\n",
      "Synset('molding.n.01') the act of creating something by casting it in a mold\n",
      "Synset('casting.n.03') the act of throwing a fishing line out over the water by means of a rod and reel\n",
      "Synset('casting.n.04') the choice of actors to play particular roles in a play or movie\n",
      "Synset('project.v.10') put or send forth\n",
      "Synset('cast.v.02') deposit\n",
      "Synset('cast.v.03') select to play,sing, or dance a part in a play, movie, musical, opera, or ballet\n",
      "Synset('hurl.v.01') throw forcefully\n",
      "Synset('cast.v.05') assign the roles of (a movie or a play) to actors\n",
      "Synset('roll.v.12') move about aimlessly or without any destination, often in search of food or employment\n",
      "Synset('cast.v.07') form by pouring (e.g., wax or hot metal) into a cast or mold\n",
      "Synset('shed.v.01') get rid of\n",
      "Synset('draw.v.14') choose at random\n",
      "Synset('frame.v.04') formulate in a particular style or language\n",
      "Synset('vomit.v.01') eject the contents of the stomach through the mouth\n"
     ]
    }
   ],
   "source": [
    "for x in wn.synsets('casting'):\n",
    "    print(x,x.definition())"
   ]
  },
  {
   "cell_type": "code",
   "execution_count": 5,
   "metadata": {},
   "outputs": [
    {
     "data": {
      "text/plain": [
       "Synset('cast.v.05')"
      ]
     },
     "execution_count": 5,
     "metadata": {},
     "output_type": "execute_result"
    }
   ],
   "source": [
    "wn.synset('cast.v.05')"
   ]
  },
  {
   "cell_type": "code",
   "execution_count": 13,
   "metadata": {},
   "outputs": [],
   "source": [
    "def showSimilarities(wordA,wordB):\n",
    "    A = set(wn.synsets(wordA, pos=wn.NOUN))\n",
    "    B = set(wn.synsets(wordB, pos=wn.NOUN))\n",
    "\n",
    "    x = []\n",
    "    for (sense1,sense2) in itertools.product(A,B):  \n",
    "        #sim = wn.wup_similarity(sense1,sense2) or 0\n",
    "        \n",
    "        sim = sense1.wup_similarity(sense2)\n",
    "        \n",
    "        x.append( (sense1.definition(),sense2.definition(),sim) )\n",
    "    x = sorted(x,key=lambda x: x[2],reverse=True)\n",
    "    \n",
    "    for e in x:\n",
    "        print(e[0],'\\n',e[1],'\\n',e[2],'\\n\\n')"
   ]
  },
  {
   "cell_type": "code",
   "execution_count": 14,
   "metadata": {},
   "outputs": [
    {
     "name": "stdout",
     "output_type": "stream",
     "text": [
      "something that people do or cause to happen \n",
      " a person who acts and gets things done \n",
      " 0.2 \n",
      "\n",
      "\n",
      "something that people do or cause to happen \n",
      " a theatrical performer \n",
      " 0.16666666666666666 \n",
      "\n",
      "\n",
      "a subdivision of a play or opera or ballet \n",
      " a person who acts and gets things done \n",
      " 0.16666666666666666 \n",
      "\n",
      "\n",
      "a manifestation of insincerity \n",
      " a person who acts and gets things done \n",
      " 0.16666666666666666 \n",
      "\n",
      "\n",
      "a legal document codifying the result of deliberations of a committee or society or legislative body \n",
      " a person who acts and gets things done \n",
      " 0.15384615384615385 \n",
      "\n",
      "\n",
      "a short theatrical performance that is part of a longer program \n",
      " a person who acts and gets things done \n",
      " 0.15384615384615385 \n",
      "\n",
      "\n",
      "a subdivision of a play or opera or ballet \n",
      " a theatrical performer \n",
      " 0.14285714285714285 \n",
      "\n",
      "\n",
      "a manifestation of insincerity \n",
      " a theatrical performer \n",
      " 0.14285714285714285 \n",
      "\n",
      "\n",
      "a legal document codifying the result of deliberations of a committee or society or legislative body \n",
      " a theatrical performer \n",
      " 0.13333333333333333 \n",
      "\n",
      "\n",
      "a short theatrical performance that is part of a longer program \n",
      " a theatrical performer \n",
      " 0.13333333333333333 \n",
      "\n",
      "\n"
     ]
    }
   ],
   "source": [
    "showSimilarities('act','actor')"
   ]
  },
  {
   "cell_type": "code",
   "execution_count": 8,
   "metadata": {},
   "outputs": [
    {
     "name": "stdout",
     "output_type": "stream",
     "text": [
      "[nltk_data] Downloading package wordnet_ic to\n",
      "[nltk_data]     C:\\Users\\pr3ma\\AppData\\Roaming\\nltk_data...\n",
      "[nltk_data]   Package wordnet_ic is already up-to-date!\n"
     ]
    }
   ],
   "source": [
    "import nltk\n",
    "nltk.download('wordnet_ic')\n",
    "from nltk.corpus import wordnet_ic\n",
    "\n",
    "brown_ic = wordnet_ic.ic('ic-brown.dat')\n",
    "semcor_ic = wordnet_ic.ic('ic-semcor.dat')"
   ]
  },
  {
   "cell_type": "code",
   "execution_count": 9,
   "metadata": {},
   "outputs": [
    {
     "name": "stdout",
     "output_type": "stream",
     "text": [
      "[nltk_data] Downloading package genesis to\n",
      "[nltk_data]     C:\\Users\\pr3ma\\AppData\\Roaming\\nltk_data...\n",
      "[nltk_data]   Package genesis is already up-to-date!\n"
     ]
    }
   ],
   "source": [
    "nltk.download('genesis')\n",
    "from nltk.corpus import genesis\n",
    "genesis_ic = wn.ic(genesis, False, 0.0)"
   ]
  }
 ],
 "metadata": {
  "kernelspec": {
   "display_name": "Python 3",
   "language": "python",
   "name": "python3"
  },
  "language_info": {
   "codemirror_mode": {
    "name": "ipython",
    "version": 3
   },
   "file_extension": ".py",
   "mimetype": "text/x-python",
   "name": "python",
   "nbconvert_exporter": "python",
   "pygments_lexer": "ipython3",
   "version": "3.6.3"
  }
 },
 "nbformat": 4,
 "nbformat_minor": 2
}
