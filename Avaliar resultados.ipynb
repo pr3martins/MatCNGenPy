{
 "cells": [
  {
   "cell_type": "code",
   "execution_count": 71,
   "metadata": {},
   "outputs": [
    {
     "name": "stdout",
     "output_type": "stream",
     "text": [
      "('character.*', 'character')\n",
      "('casting.note', 'script')\n",
      "('person.*', 'actress')\n",
      "('character.*', 'char')\n"
     ]
    }
   ],
   "source": [
    "x=[('s', 'character', '*', frozenset({'character'})), ('s', 'casting', 'note', frozenset({'script'})), ('s', 'person', '*', frozenset({'actress'})), ('s', 'character', '*', frozenset({'char'}))]\n",
    "\n",
    "y=[(table+'.'+attr,tuple(keys)[0]) for (s,table,attr,keys) in x]\n",
    "for line in y:\n",
    "    print(line,sep='')"
   ]
  },
  {
   "cell_type": "code",
   "execution_count": 55,
   "metadata": {},
   "outputs": [
    {
     "data": {
      "text/plain": [
       "'character'"
      ]
     },
     "execution_count": 55,
     "metadata": {},
     "output_type": "execute_result"
    }
   ],
   "source": [
    "tuple(frozenset({'character'}))[0]"
   ]
  },
  {
   "cell_type": "code",
   "execution_count": 47,
   "metadata": {},
   "outputs": [
    {
     "name": "stdout",
     "output_type": "stream",
     "text": [
      "TP: 14 \n",
      "FP: 2 \n",
      "FN 7\n",
      "[('s', 'character', '*', frozenset({'character'})), ('s', 'casting', 'note', frozenset({'script'})), ('s', 'person', '*', frozenset({'actor'})), ('s', 'person', '*', frozenset({'actor'})), ('s', 'person', '*', frozenset({'actress'})), ('s', 'character', '*', frozenset({'char'})), ('s', 'person', '*', frozenset({'actor'}))]\n"
     ]
    }
   ],
   "source": [
    "from pprint import pprint as pp\n",
    "\n",
    "goldenStandards = [\n",
    "    #William Smith nickname\n",
    "    ('s', 'person', 'name', frozenset({'nickname'})),\n",
    "    ('s', 'character', 'name', frozenset({'nickname'})),\n",
    "    #protagonist sound music\n",
    "    ('s', 'character', '*', frozenset({'protagonist'})),\n",
    "    #character Forrest Gump\n",
    "    ('s', 'character', '*', frozenset({'character'})),\n",
    "    #script of Casablanca\n",
    "    ('s', 'casting', 'note', frozenset({'script'})),\n",
    "    #best movie award James Cameron\n",
    "    ('s', 'movie', '*', frozenset({'movie'})),\n",
    "    #actor James Bond\n",
    "    ('s', 'person', '*', frozenset({'actor'})),\n",
    "    #flick Ellen Page thriller\n",
    "    ('s', 'movie', '*', frozenset({'flick'})),\n",
    "    #movie Terry Gilliam Benicio del Toro Dr gonzo\n",
    "    ('s', 'movie', '*', frozenset({'movie'})),\n",
    "    #director artificial intelligent Haley Joel Osment\n",
    "    #Trivia Don Quixote\n",
    "    #Movie Steven Spielberg\n",
    "    ('s', 'movie', '*', frozenset({'movie'})),\n",
    "    #German fellow actor Mel Gibson\n",
    "    ('s', 'person', '*', frozenset({'actor'})),\n",
    "    #Fellowship Ring King Towers\n",
    "    #Lord of the Rings films\n",
    "    ('s', 'movie', '*', frozenset({'films'})),\n",
    "    #Director John Hughes Matthew Broderick 1986\n",
    "    #cast Friends\n",
    "    ('s', 'casting', '*', frozenset({'cast'})),\n",
    "    #Henry Fonda mine\n",
    "    #name of actress in Lara Croft film\n",
    "    ('s', 'character', 'name', frozenset({'name'})),\n",
    "    ('s', 'person', 'name', frozenset({'name'})),\n",
    "    ('s', 'person', '*', frozenset({'actress'})),\n",
    "    #Russell Crowe gladiator char name\n",
    "    ('s', 'character', '*', frozenset({'char'})),\n",
    "    ('s', 'character', 'name', frozenset({'name'})),\n",
    "    ('s', 'person', 'name', frozenset({'name'})),\n",
    "    #Darth Vader\n",
    "    #Norman Bates\n",
    "    #Atticus surname\n",
    "    ('s', 'character', 'name', frozenset({'surname'})),\n",
    "    #social network\n",
    "    #Space Odyssey Adventure year\n",
    "    #Chihiro animation\n",
    "    #actor Draco Harry Potter\n",
    "    ('s', 'person', '*', frozenset({'actor'})),\n",
    "]\n",
    "\n",
    "TP=TN=FP=FN=0\n",
    "\n",
    "with open('schemaMappings/threshold-0.8/wdnet_embeddingsA.txt') as f:\n",
    "    for line in f.readlines():\n",
    "        if eval(line) in goldenStandards:\n",
    "            #print('nice', line)\n",
    "            TP+=1\n",
    "            goldenStandards.remove(eval(line))\n",
    "        else:\n",
    "            #print('bad ', line)\n",
    "            FP+=1\n",
    "    FN=len(goldenStandards)\n",
    "        \n",
    "    print('TP:',TP,'\\nFP:',FP,'\\nFN',FN)\n",
    "    \n",
    "    print(goldenStandards)"
   ]
  },
  {
   "cell_type": "code",
   "execution_count": null,
   "metadata": {},
   "outputs": [],
   "source": [
    "\n",
    "\n"
   ]
  }
 ],
 "metadata": {
  "kernelspec": {
   "display_name": "matcngenpy",
   "language": "python",
   "name": "matcngenpy"
  },
  "language_info": {
   "codemirror_mode": {
    "name": "ipython",
    "version": 3
   },
   "file_extension": ".py",
   "mimetype": "text/x-python",
   "name": "python",
   "nbconvert_exporter": "python",
   "pygments_lexer": "ipython3",
   "version": "3.6.5"
  },
  "toc": {
   "base_numbering": 1,
   "nav_menu": {},
   "number_sections": true,
   "sideBar": true,
   "skip_h1_title": false,
   "title_cell": "Table of Contents",
   "title_sidebar": "Contents",
   "toc_cell": false,
   "toc_position": {},
   "toc_section_display": true,
   "toc_window_display": false
  }
 },
 "nbformat": 4,
 "nbformat_minor": 2
}
